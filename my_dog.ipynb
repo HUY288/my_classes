{
 "cells": [
  {
   "cell_type": "code",
   "execution_count": 1,
   "id": "057fd9c8",
   "metadata": {},
   "outputs": [],
   "source": [
    "class Dog:\n",
    "    def __init__ (self, name, breed, age) :\n",
    "        self. name = name # Атрибут: имя собаки\n",
    "        self. breed = breed # Атрибут: порода собаки\n",
    "        self. age = age # Атрибут: возраст собаки\n",
    "\n",
    "    def bark (self) :\n",
    "        print (f\" {self. name} говорит: Гав!\")\n",
    "               \n",
    "    def description (self) :\n",
    "        return f\"Это {self.name}, порода: {self.breed}, возраст: {self.age}.\"\n"
   ]
  },
  {
   "cell_type": "code",
   "execution_count": 8,
   "id": "65365f0f",
   "metadata": {},
   "outputs": [],
   "source": [
    "my_dog = Dog('Шарик','Хаски',4)\n",
    "my_dog1 = Dog('Бобик','Хаски',5)\n",
    "my_dog2 = Dog('Бро','Хаски',6)"
   ]
  },
  {
   "cell_type": "code",
   "execution_count": 10,
   "id": "698d91a0",
   "metadata": {},
   "outputs": [
    {
     "data": {
      "text/plain": [
       "'Это Бро, порода: Хаски, возраст: 6.'"
      ]
     },
     "execution_count": 10,
     "metadata": {},
     "output_type": "execute_result"
    }
   ],
   "source": [
    "my_dog2.description()"
   ]
  }
 ],
 "metadata": {
  "kernelspec": {
   "display_name": "Python 3",
   "language": "python",
   "name": "python3"
  },
  "language_info": {
   "codemirror_mode": {
    "name": "ipython",
    "version": 3
   },
   "file_extension": ".py",
   "mimetype": "text/x-python",
   "name": "python",
   "nbconvert_exporter": "python",
   "pygments_lexer": "ipython3",
   "version": "3.12.4"
  }
 },
 "nbformat": 4,
 "nbformat_minor": 5
}
